{
 "cells": [
  {
   "cell_type": "markdown",
   "metadata": {},
   "source": [
    "## Homework #1 : Seasonality, Stability and detrending"
   ]
  },
  {
   "cell_type": "markdown",
   "metadata": {},
   "source": [
    "1.  Pick a stock and download the last 250 trading days (1 year).  Graph the stock price.  Can you calculate the observed auto correlation function? Does there appear to be a trend? How about seasonality?   There is no correct / wrong answer for trend / seasonality. Just look at the data and describe it.\n",
    "\n",
    "2. For your stock detrend the data using the following methods. i) Linear regression of price vs time ii) moving average function.   Plot the detrended data\n",
    "\n",
    "3. Download retail sales data for the last 10 years.  Remove the seasonality of the data.  After that try to remove inflation but using log of sales vs time in a linear regression.\n",
    "\n",
    "3. Stoffer Problem 1.7 : \n",
    "\n",
    "    For a moving average process of the form\n",
    "\n",
    "    $$x_t = w_{t-1} + 2w_t + w_t$$\n",
    "\n",
    "    find the autocorrelatin and autocovariance function\n",
    "\n",
    "4. Assume $Z_t$ are iid normal with mean 0 and standard deviation sigma\n",
    "\n",
    "    which of the following are stationary\n",
    "\n",
    "    $$X_t = a + bZ_t + cZ_{t-1}$$ \n",
    "\n",
    "    $$X_t = Z_1 cos(ct) + Z_2 sin(ct)$$\n",
    "\n",
    "    $$X_t = Z_0 cos(ct)$$\n",
    "\n",
    "    $$X_t = Z_tZ_{t-1}$$\n",
    "\n",
    "    $$X_t = a + bZ_t + ct$$"
   ]
  },
  {
   "cell_type": "code",
   "execution_count": null,
   "metadata": {},
   "outputs": [],
   "source": [
    "def n_business_day_before(test_date, n):\n",
    "    '''\n",
    "    This function is a helper function trying to calculate the date that n business day before the input date\n",
    "    '''\n",
    "    last_day = test_date\n",
    "    for _ in range(n):\n",
    "        last_day = last_day - ONE_DAY\n",
    "        while last_day.weekday() in holidays.WEEKEND or last_day in HOLIDAYS_US:\n",
    "            last_day -= ONE_DAY\n",
    "    return last_day \n",
    "\n",
    "def data_preparation(ticker_name, test_date):\n",
    "    start_date = n_business_day_before(test_date, 249)\n",
    "    price_df = data.DataReader(ticker_name, 'yahoo', start_date, end_date)\n",
    "    \n"
   ]
  }
 ],
 "metadata": {
  "kernelspec": {
   "display_name": "Python 3",
   "language": "python",
   "name": "python3"
  },
  "language_info": {
   "codemirror_mode": {
    "name": "ipython",
    "version": 3
   },
   "file_extension": ".py",
   "mimetype": "text/x-python",
   "name": "python",
   "nbconvert_exporter": "python",
   "pygments_lexer": "ipython3",
   "version": "3.6.7"
  }
 },
 "nbformat": 4,
 "nbformat_minor": 2
}
